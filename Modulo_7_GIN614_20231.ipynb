{
  "nbformat": 4,
  "nbformat_minor": 0,
  "metadata": {
    "colab": {
      "provenance": [],
      "include_colab_link": true
    },
    "kernelspec": {
      "name": "python3",
      "display_name": "Python 3"
    },
    "language_info": {
      "name": "python"
    }
  },
  "cells": [
    {
      "cell_type": "markdown",
      "metadata": {
        "id": "view-in-github",
        "colab_type": "text"
      },
      "source": [
        "<a href=\"https://colab.research.google.com/github/dmartinez09/30-Days-Of-Python/blob/master/Modulo_7_GIN614_20231.ipynb\" target=\"_parent\"><img src=\"https://colab.research.google.com/assets/colab-badge.svg\" alt=\"Open In Colab\"/></a>"
      ]
    },
    {
      "cell_type": "markdown",
      "metadata": {
        "id": "kp_X5dLEixsq"
      },
      "source": [
        "#Contenidos basicos"
      ]
    },
    {
      "cell_type": "code",
      "metadata": {
        "id": "mUKxpqUomlZy"
      },
      "source": [
        "#esto es un comentario, no se ejecutara"
      ],
      "execution_count": null,
      "outputs": []
    },
    {
      "cell_type": "markdown",
      "metadata": {
        "id": "ig1imab-kJdM"
      },
      "source": [
        "##Interaccion con el usuario"
      ]
    },
    {
      "cell_type": "markdown",
      "metadata": {
        "id": "ry3FxUqBkRUE"
      },
      "source": [
        "- input(texto)  pedir texto al usuario\n",
        "- print(texto)  mostrar/imprimir texto al usuario"
      ]
    },
    {
      "cell_type": "code",
      "metadata": {
        "id": "HySp2PmLkOhw",
        "colab": {
          "base_uri": "https://localhost:8080/"
        },
        "outputId": "5c6baf99-492c-42a1-ba96-28a9501a9b2e"
      },
      "source": [
        "x = input('Pregunta que se realizara al usuario')"
      ],
      "execution_count": null,
      "outputs": [
        {
          "name": "stdout",
          "output_type": "stream",
          "text": [
            "Pregunta que se realizara al usuario10\n"
          ]
        }
      ]
    },
    {
      "cell_type": "code",
      "source": [
        "print(x)"
      ],
      "metadata": {
        "colab": {
          "base_uri": "https://localhost:8080/"
        },
        "id": "1c3CmL0ms7-o",
        "outputId": "b573c138-faa1-4ad7-adaa-52310d3c5890"
      },
      "execution_count": null,
      "outputs": [
        {
          "output_type": "stream",
          "name": "stdout",
          "text": [
            "10\n"
          ]
        }
      ]
    },
    {
      "cell_type": "code",
      "metadata": {
        "id": "fNaPTHDE0M5G",
        "colab": {
          "base_uri": "https://localhost:8080/"
        },
        "outputId": "4cb8a209-165e-44aa-a1c0-8eb0721f0ff9"
      },
      "source": [
        "print(      x         )"
      ],
      "execution_count": null,
      "outputs": [
        {
          "output_type": "stream",
          "name": "stdout",
          "text": [
            "hola\n"
          ]
        }
      ]
    },
    {
      "cell_type": "code",
      "source": [
        "z = input()"
      ],
      "metadata": {
        "colab": {
          "base_uri": "https://localhost:8080/"
        },
        "id": "_V6c_fFetlV0",
        "outputId": "2ae35ad6-ed6c-45a5-e4c0-60b2f3200ffc"
      },
      "execution_count": null,
      "outputs": [
        {
          "name": "stdout",
          "output_type": "stream",
          "text": [
            "1\n"
          ]
        }
      ]
    },
    {
      "cell_type": "code",
      "source": [
        "print('esto es un mensaje\\nnueva linea')"
      ],
      "metadata": {
        "colab": {
          "base_uri": "https://localhost:8080/"
        },
        "id": "o_9wmg_4udZa",
        "outputId": "056d7ba0-359e-4a43-8dcb-dedb69bd1591"
      },
      "execution_count": null,
      "outputs": [
        {
          "output_type": "stream",
          "name": "stdout",
          "text": [
            "esto es un mensaje\n",
            "nueva linea\n"
          ]
        }
      ]
    },
    {
      "cell_type": "code",
      "source": [
        "print('esto es un mensaje')\n",
        "print('nueva linea')"
      ],
      "metadata": {
        "colab": {
          "base_uri": "https://localhost:8080/"
        },
        "id": "1oGI5Xjauq55",
        "outputId": "79adee24-6f42-46ee-a580-83a18229d82f"
      },
      "execution_count": null,
      "outputs": [
        {
          "output_type": "stream",
          "name": "stdout",
          "text": [
            "esto es un mensaje\n",
            "nueva'linea\n"
          ]
        }
      ]
    },
    {
      "cell_type": "code",
      "source": [
        "print('''esto es un mensaje\n",
        "nueva linea''')"
      ],
      "metadata": {
        "colab": {
          "base_uri": "https://localhost:8080/"
        },
        "id": "3o9V7iGquwG4",
        "outputId": "e4aaed7b-d310-4654-94d0-0758008afc64"
      },
      "execution_count": null,
      "outputs": [
        {
          "output_type": "stream",
          "name": "stdout",
          "text": [
            "esto es un mensaje\n",
            "nueva linea\n"
          ]
        }
      ]
    },
    {
      "cell_type": "code",
      "metadata": {
        "id": "SI2g9cuC0BgH"
      },
      "source": [
        "y = input('Ingresa un numero\\n')"
      ],
      "execution_count": null,
      "outputs": []
    },
    {
      "cell_type": "code",
      "metadata": {
        "id": "im4N5JJN0Was"
      },
      "source": [
        "print( y )"
      ],
      "execution_count": null,
      "outputs": []
    },
    {
      "cell_type": "code",
      "source": [
        "x = 1\n",
        "y = 2\n",
        "z = 3"
      ],
      "metadata": {
        "id": "CrffZqcP2fZn"
      },
      "execution_count": null,
      "outputs": []
    },
    {
      "cell_type": "code",
      "source": [
        "var_a = 1"
      ],
      "metadata": {
        "id": "VDQtbd45t-Nq"
      },
      "execution_count": null,
      "outputs": []
    },
    {
      "cell_type": "code",
      "source": [
        "var_a"
      ],
      "metadata": {
        "colab": {
          "base_uri": "https://localhost:8080/"
        },
        "id": "DN-JtbwsuFLL",
        "outputId": "47340f79-79ab-4b28-efcf-1c4ac0548dac"
      },
      "execution_count": null,
      "outputs": [
        {
          "output_type": "execute_result",
          "data": {
            "text/plain": [
              "1"
            ]
          },
          "metadata": {},
          "execution_count": 14
        }
      ]
    },
    {
      "cell_type": "markdown",
      "metadata": {
        "id": "_dlTfXSmi46p"
      },
      "source": [
        "##Variables"
      ]
    },
    {
      "cell_type": "markdown",
      "metadata": {
        "id": "3rlK6uN9kdM0"
      },
      "source": [
        "- integer numeros enteros\n",
        "- float numeros reales (en formato punto flotante)\n",
        "- string texto cadena de caracteres\n",
        "- booleanos True / False\n",
        "\n",
        "\n",
        "- int(dato) convierte el dato a un entero\n",
        "- float(dato) convierte el dato a un numero real\n",
        "- str(dato) convierte el dato a una variable texto\n",
        "- bool(dato) convierte el dato a una variable booleana"
      ]
    },
    {
      "cell_type": "code",
      "metadata": {
        "id": "v8-MAzGzjZRg",
        "colab": {
          "base_uri": "https://localhost:8080/"
        },
        "outputId": "496c067f-a9d6-4a1a-ebee-e2dff69aa07a"
      },
      "source": [
        "'1' == 1  "
      ],
      "execution_count": null,
      "outputs": [
        {
          "output_type": "execute_result",
          "data": {
            "text/plain": [
              "False"
            ]
          },
          "metadata": {},
          "execution_count": 25
        }
      ]
    },
    {
      "cell_type": "code",
      "source": [
        "1 == 1.0 # conversion implicita"
      ],
      "metadata": {
        "colab": {
          "base_uri": "https://localhost:8080/"
        },
        "id": "zAZ6zf-ZxgVU",
        "outputId": "8f11a855-63e0-4a0b-ba28-40ea7b99e77e"
      },
      "execution_count": null,
      "outputs": [
        {
          "output_type": "execute_result",
          "data": {
            "text/plain": [
              "True"
            ]
          },
          "metadata": {},
          "execution_count": 26
        }
      ]
    },
    {
      "cell_type": "code",
      "source": [
        "int('15800') == 15800 # conversion explicita"
      ],
      "metadata": {
        "colab": {
          "base_uri": "https://localhost:8080/"
        },
        "id": "crui1_jpx6b0",
        "outputId": "b336c315-4747-43c8-fd3c-33a85b195a75"
      },
      "execution_count": null,
      "outputs": [
        {
          "output_type": "execute_result",
          "data": {
            "text/plain": [
              "True"
            ]
          },
          "metadata": {},
          "execution_count": 28
        }
      ]
    },
    {
      "cell_type": "code",
      "source": [
        "'15800' == str(15800) # conversion explicita"
      ],
      "metadata": {
        "colab": {
          "base_uri": "https://localhost:8080/"
        },
        "id": "4Vw3wZFMyF0U",
        "outputId": "ba4b0941-eb7f-43af-f6f9-0daf3ffe5b40"
      },
      "execution_count": null,
      "outputs": [
        {
          "output_type": "execute_result",
          "data": {
            "text/plain": [
              "True"
            ]
          },
          "metadata": {},
          "execution_count": 29
        }
      ]
    },
    {
      "cell_type": "code",
      "source": [
        "x = input()\n",
        "print(x + 1000)"
      ],
      "metadata": {
        "colab": {
          "base_uri": "https://localhost:8080/",
          "height": 201
        },
        "id": "fmBKgR5fyV-t",
        "outputId": "da16c41f-57ef-4bfa-ebd3-233a89dbeb7b"
      },
      "execution_count": null,
      "outputs": [
        {
          "name": "stdout",
          "output_type": "stream",
          "text": [
            "1000\n"
          ]
        },
        {
          "output_type": "error",
          "ename": "TypeError",
          "evalue": "ignored",
          "traceback": [
            "\u001b[0;31m---------------------------------------------------------------------------\u001b[0m",
            "\u001b[0;31mTypeError\u001b[0m                                 Traceback (most recent call last)",
            "\u001b[0;32m<ipython-input-30-203743b5c994>\u001b[0m in \u001b[0;36m<cell line: 2>\u001b[0;34m()\u001b[0m\n\u001b[1;32m      1\u001b[0m \u001b[0mx\u001b[0m \u001b[0;34m=\u001b[0m \u001b[0minput\u001b[0m\u001b[0;34m(\u001b[0m\u001b[0;34m)\u001b[0m\u001b[0;34m\u001b[0m\u001b[0;34m\u001b[0m\u001b[0m\n\u001b[0;32m----> 2\u001b[0;31m \u001b[0mprint\u001b[0m\u001b[0;34m(\u001b[0m\u001b[0mx\u001b[0m \u001b[0;34m+\u001b[0m \u001b[0;36m1000\u001b[0m\u001b[0;34m)\u001b[0m\u001b[0;34m\u001b[0m\u001b[0;34m\u001b[0m\u001b[0m\n\u001b[0m",
            "\u001b[0;31mTypeError\u001b[0m: can only concatenate str (not \"int\") to str"
          ]
        }
      ]
    },
    {
      "cell_type": "code",
      "source": [
        "x = int( input('Ingresa el precio') )\n",
        "print(x + 1000)"
      ],
      "metadata": {
        "colab": {
          "base_uri": "https://localhost:8080/"
        },
        "id": "3vHnimzuyqUb",
        "outputId": "5e8a159f-4108-4dba-825a-33a0ad7e8c62"
      },
      "execution_count": null,
      "outputs": [
        {
          "output_type": "stream",
          "name": "stdout",
          "text": [
            "Ingresa el precio500\n",
            "1500\n"
          ]
        }
      ]
    },
    {
      "cell_type": "code",
      "source": [
        "x = int( input('Ingresa el precio') )\n",
        "print('El precio es' + x)"
      ],
      "metadata": {
        "colab": {
          "base_uri": "https://localhost:8080/",
          "height": 201
        },
        "id": "g6foDNfpy0Fz",
        "outputId": "0bb36c0c-20ff-4151-f89f-26c30bbcd697"
      },
      "execution_count": null,
      "outputs": [
        {
          "name": "stdout",
          "output_type": "stream",
          "text": [
            "Ingresa el precio1000\n"
          ]
        },
        {
          "output_type": "error",
          "ename": "TypeError",
          "evalue": "ignored",
          "traceback": [
            "\u001b[0;31m---------------------------------------------------------------------------\u001b[0m",
            "\u001b[0;31mTypeError\u001b[0m                                 Traceback (most recent call last)",
            "\u001b[0;32m<ipython-input-32-a4df9b72410d>\u001b[0m in \u001b[0;36m<cell line: 2>\u001b[0;34m()\u001b[0m\n\u001b[1;32m      1\u001b[0m \u001b[0mx\u001b[0m \u001b[0;34m=\u001b[0m \u001b[0mint\u001b[0m\u001b[0;34m(\u001b[0m \u001b[0minput\u001b[0m\u001b[0;34m(\u001b[0m\u001b[0;34m'Ingresa el precio'\u001b[0m\u001b[0;34m)\u001b[0m \u001b[0;34m)\u001b[0m\u001b[0;34m\u001b[0m\u001b[0;34m\u001b[0m\u001b[0m\n\u001b[0;32m----> 2\u001b[0;31m \u001b[0mprint\u001b[0m\u001b[0;34m(\u001b[0m\u001b[0;34m'El precio es'\u001b[0m \u001b[0;34m+\u001b[0m \u001b[0mx\u001b[0m\u001b[0;34m)\u001b[0m\u001b[0;34m\u001b[0m\u001b[0;34m\u001b[0m\u001b[0m\n\u001b[0m",
            "\u001b[0;31mTypeError\u001b[0m: can only concatenate str (not \"int\") to str"
          ]
        }
      ]
    },
    {
      "cell_type": "code",
      "source": [
        "'''\n",
        "comentario\n",
        "'''\n",
        "x = int( input('Ingresa el precio') )\n",
        "print('El precio es' + str(x) )"
      ],
      "metadata": {
        "colab": {
          "base_uri": "https://localhost:8080/"
        },
        "id": "ZqjAGPKLzBb7",
        "outputId": "1c8f6a38-ca37-40cb-d81e-5c997a431cec"
      },
      "execution_count": null,
      "outputs": [
        {
          "output_type": "stream",
          "name": "stdout",
          "text": [
            "Ingresa el precio15\n",
            "El precio es15\n"
          ]
        }
      ]
    },
    {
      "cell_type": "code",
      "source": [
        "x = int( input('Ingresa el precio') )\n",
        "print('El precio es', x )"
      ],
      "metadata": {
        "colab": {
          "base_uri": "https://localhost:8080/"
        },
        "id": "hRWAiFgRzPJ6",
        "outputId": "2d3b2b7d-983b-4bef-885a-b17e2f5d2e15"
      },
      "execution_count": null,
      "outputs": [
        {
          "output_type": "stream",
          "name": "stdout",
          "text": [
            "Ingresa el precio1500\n",
            "El precio es 1500\n"
          ]
        }
      ]
    },
    {
      "cell_type": "code",
      "metadata": {
        "id": "2unagMCy08Dj",
        "colab": {
          "base_uri": "https://localhost:8080/"
        },
        "outputId": "a5f289af-da61-4674-9255-d201d7c26f8a"
      },
      "source": [
        "print(  int( '123456'  )  )"
      ],
      "execution_count": null,
      "outputs": [
        {
          "output_type": "stream",
          "name": "stdout",
          "text": [
            "123456\n"
          ]
        }
      ]
    },
    {
      "cell_type": "code",
      "metadata": {
        "id": "pke4FM6Y1N4G",
        "colab": {
          "base_uri": "https://localhost:8080/",
          "height": 35
        },
        "outputId": "b2c78f2a-4d1b-4f21-cb03-4ec6a51fe683"
      },
      "source": [
        "'1' + '1' "
      ],
      "execution_count": null,
      "outputs": [
        {
          "output_type": "execute_result",
          "data": {
            "text/plain": [
              "'11'"
            ],
            "application/vnd.google.colaboratory.intrinsic+json": {
              "type": "string"
            }
          },
          "metadata": {},
          "execution_count": 39
        }
      ]
    },
    {
      "cell_type": "code",
      "metadata": {
        "id": "RyNla-Z21R2k",
        "colab": {
          "base_uri": "https://localhost:8080/"
        },
        "outputId": "79d2b4ee-b4b0-4bd7-f511-e7cf343e5d48"
      },
      "source": [
        "1 + 1 "
      ],
      "execution_count": null,
      "outputs": [
        {
          "output_type": "execute_result",
          "data": {
            "text/plain": [
              "2"
            ]
          },
          "metadata": {},
          "execution_count": 40
        }
      ]
    },
    {
      "cell_type": "code",
      "source": [
        "'1' * 5"
      ],
      "metadata": {
        "colab": {
          "base_uri": "https://localhost:8080/",
          "height": 35
        },
        "id": "aoJxKmj40hgP",
        "outputId": "36adda4e-3539-4f13-ea42-5fe7f0ae3932"
      },
      "execution_count": null,
      "outputs": [
        {
          "output_type": "execute_result",
          "data": {
            "text/plain": [
              "'11111'"
            ],
            "application/vnd.google.colaboratory.intrinsic+json": {
              "type": "string"
            }
          },
          "metadata": {},
          "execution_count": 41
        }
      ]
    },
    {
      "cell_type": "code",
      "metadata": {
        "id": "irjfYIAf1wpw"
      },
      "source": [
        "str(123)"
      ],
      "execution_count": null,
      "outputs": []
    },
    {
      "cell_type": "code",
      "metadata": {
        "id": "TlZXajrL13K4",
        "colab": {
          "base_uri": "https://localhost:8080/"
        },
        "outputId": "c1673557-5498-4f88-8dbd-58559e881253"
      },
      "source": [
        "bool('esto es texto')"
      ],
      "execution_count": null,
      "outputs": [
        {
          "output_type": "execute_result",
          "data": {
            "text/plain": [
              "True"
            ]
          },
          "metadata": {},
          "execution_count": 42
        }
      ]
    },
    {
      "cell_type": "code",
      "metadata": {
        "id": "7FVpyQIh1-7C",
        "colab": {
          "base_uri": "https://localhost:8080/"
        },
        "outputId": "cb4c8312-8534-476e-a883-6a0c52d8fa31"
      },
      "source": [
        "bool('') #vacio de texto ''"
      ],
      "execution_count": null,
      "outputs": [
        {
          "output_type": "execute_result",
          "data": {
            "text/plain": [
              "False"
            ]
          },
          "metadata": {},
          "execution_count": 43
        }
      ]
    },
    {
      "cell_type": "code",
      "metadata": {
        "id": "u_2ZVbUW2BmX",
        "colab": {
          "base_uri": "https://localhost:8080/"
        },
        "outputId": "9dc009d1-3a41-48d7-de99-c9822d28effa"
      },
      "source": [
        "bool(123456)"
      ],
      "execution_count": null,
      "outputs": [
        {
          "output_type": "execute_result",
          "data": {
            "text/plain": [
              "True"
            ]
          },
          "metadata": {},
          "execution_count": 44
        }
      ]
    },
    {
      "cell_type": "code",
      "metadata": {
        "id": "IsVqQT1q2ETI",
        "colab": {
          "base_uri": "https://localhost:8080/"
        },
        "outputId": "db12827c-e400-49a1-929a-c2d2f19eb584"
      },
      "source": [
        "bool(0) #vacio de entero 0"
      ],
      "execution_count": null,
      "outputs": [
        {
          "output_type": "execute_result",
          "data": {
            "text/plain": [
              "False"
            ]
          },
          "metadata": {},
          "execution_count": 45
        }
      ]
    },
    {
      "cell_type": "code",
      "metadata": {
        "id": "1e-P4iQ02OHj",
        "colab": {
          "base_uri": "https://localhost:8080/"
        },
        "outputId": "0152779e-90c3-4f2e-ecf8-7692115440a3"
      },
      "source": [
        "int(123.456789) #se puede utilizar la conversion a entero para eliminar decimales"
      ],
      "execution_count": null,
      "outputs": [
        {
          "output_type": "execute_result",
          "data": {
            "text/plain": [
              "123"
            ]
          },
          "metadata": {},
          "execution_count": 46
        }
      ]
    },
    {
      "cell_type": "code",
      "source": [
        "print(round(123.456, 2))\n",
        "print(round(123.456, 0))\n",
        "print(round(123.456, -2))"
      ],
      "metadata": {
        "colab": {
          "base_uri": "https://localhost:8080/"
        },
        "id": "HU4djQdb1LUX",
        "outputId": "5b2baa31-eb89-41ce-e76b-23d65673748f"
      },
      "execution_count": null,
      "outputs": [
        {
          "output_type": "stream",
          "name": "stdout",
          "text": [
            "123.46\n",
            "123.0\n",
            "100.0\n"
          ]
        }
      ]
    },
    {
      "cell_type": "code",
      "source": [
        "0.1 + 0.1 + 0.1 == 0.3"
      ],
      "metadata": {
        "id": "43pSFacB5Z8V",
        "colab": {
          "base_uri": "https://localhost:8080/"
        },
        "outputId": "a5e62688-a1e4-46d2-f1e7-5861cdf67ad3"
      },
      "execution_count": null,
      "outputs": [
        {
          "output_type": "execute_result",
          "data": {
            "text/plain": [
              "False"
            ]
          },
          "metadata": {},
          "execution_count": 51
        }
      ]
    },
    {
      "cell_type": "code",
      "source": [
        "0.1 + 0.1 + 0.1"
      ],
      "metadata": {
        "id": "gXLznuM55mJc",
        "colab": {
          "base_uri": "https://localhost:8080/"
        },
        "outputId": "c50735a5-fd45-4266-bf94-14d563c42bc3"
      },
      "execution_count": null,
      "outputs": [
        {
          "output_type": "execute_result",
          "data": {
            "text/plain": [
              "0.30000000000000004"
            ]
          },
          "metadata": {},
          "execution_count": 52
        }
      ]
    },
    {
      "cell_type": "code",
      "source": [
        "(0.1 + 0.1 + 0.1) - 0.3 <= 0.00000000001"
      ],
      "metadata": {
        "colab": {
          "base_uri": "https://localhost:8080/"
        },
        "id": "pHZWEgS9167e",
        "outputId": "d1d93c3d-69f6-4b5b-bbab-b141b9b3b33d"
      },
      "execution_count": null,
      "outputs": [
        {
          "output_type": "execute_result",
          "data": {
            "text/plain": [
              "True"
            ]
          },
          "metadata": {},
          "execution_count": 53
        }
      ]
    },
    {
      "cell_type": "markdown",
      "metadata": {
        "id": "gFpJtxqYi4xa"
      },
      "source": [
        "##Operaciones"
      ]
    },
    {
      "cell_type": "markdown",
      "metadata": {
        "id": "cCc5GN-NlL1I"
      },
      "source": [
        "- \\+ suma\n",
        "- \\- resta\n",
        "- \\* multiplicacion\n",
        "- ** exponente a**b  a elevado b\n",
        "- / division\n",
        "- // division entera (solo la parte entera)\n",
        "- % resto o modulo de la division\n",
        "- not opuesto de un valor booleano\n",
        "- in dentro de\n",
        "- and y proposisional\n",
        "- or o proposisional\n",
        "\n",
        "\n",
        "- \\= asignar un valor\n",
        "- \\== igualdad\n",
        "- \\!= desigualdad\n",
        "- \\> mayor que\n",
        "- \\< menor que\n",
        "- \\>= mayor o igual que\n",
        "- \\<= menor o igual que"
      ]
    },
    {
      "cell_type": "code",
      "source": [
        "16**(1/2)"
      ],
      "metadata": {
        "colab": {
          "base_uri": "https://localhost:8080/"
        },
        "id": "JZHNdeP825W9",
        "outputId": "df2afb36-4184-44ff-8b70-d3fd7945fba4"
      },
      "execution_count": null,
      "outputs": [
        {
          "output_type": "execute_result",
          "data": {
            "text/plain": [
              "4.0"
            ]
          },
          "metadata": {},
          "execution_count": 55
        }
      ]
    },
    {
      "cell_type": "code",
      "metadata": {
        "id": "7ILOnXC82tTW",
        "colab": {
          "base_uri": "https://localhost:8080/"
        },
        "outputId": "9108632f-934f-40ec-f569-66656715c64e"
      },
      "source": [
        "print( 11 /  3 )\n",
        "print( 11 // 3 )\n",
        "print( 11 %  3 )"
      ],
      "execution_count": null,
      "outputs": [
        {
          "output_type": "stream",
          "name": "stdout",
          "text": [
            "3.6666666666666665\n",
            "3\n",
            "2\n"
          ]
        }
      ]
    },
    {
      "cell_type": "code",
      "metadata": {
        "id": "bdUdTaNKjZhz"
      },
      "source": [
        "11 % 3"
      ],
      "execution_count": null,
      "outputs": []
    },
    {
      "cell_type": "code",
      "metadata": {
        "id": "Ef0rajye23Ex",
        "colab": {
          "base_uri": "https://localhost:8080/"
        },
        "outputId": "731a431f-7fa8-4c69-b650-5d7c576438bf"
      },
      "source": [
        "not True"
      ],
      "execution_count": null,
      "outputs": [
        {
          "output_type": "execute_result",
          "data": {
            "text/plain": [
              "False"
            ]
          },
          "metadata": {},
          "execution_count": 57
        }
      ]
    },
    {
      "cell_type": "code",
      "metadata": {
        "id": "ZdFMdolq3AYn",
        "colab": {
          "base_uri": "https://localhost:8080/"
        },
        "outputId": "51b8afc1-4479-4dbe-a2ba-76a2759aacec"
      },
      "source": [
        "True and False"
      ],
      "execution_count": null,
      "outputs": [
        {
          "output_type": "execute_result",
          "data": {
            "text/plain": [
              "False"
            ]
          },
          "metadata": {},
          "execution_count": 58
        }
      ]
    },
    {
      "cell_type": "code",
      "metadata": {
        "id": "67Lg3F7g3D17",
        "colab": {
          "base_uri": "https://localhost:8080/"
        },
        "outputId": "5b576bcf-6892-4866-d9d4-ec611224f4b5"
      },
      "source": [
        "True or False"
      ],
      "execution_count": null,
      "outputs": [
        {
          "output_type": "execute_result",
          "data": {
            "text/plain": [
              "True"
            ]
          },
          "metadata": {},
          "execution_count": 59
        }
      ]
    },
    {
      "cell_type": "code",
      "metadata": {
        "id": "EABy7FGj3QK_",
        "colab": {
          "base_uri": "https://localhost:8080/"
        },
        "outputId": "65822f82-5c6d-4fa9-e717-56cc158b3f3f"
      },
      "source": [
        "1 == '1' or 1 == int( '1' )"
      ],
      "execution_count": null,
      "outputs": [
        {
          "output_type": "execute_result",
          "data": {
            "text/plain": [
              "True"
            ]
          },
          "metadata": {},
          "execution_count": 60
        }
      ]
    },
    {
      "cell_type": "code",
      "source": [
        "x = 15\n",
        "bool(x < 10 or 5) # (x es menor que 10) o 5\n",
        "boo(x < 10 or x < 5) # (x es menor que 10) o (x es menor que 5)\n"
      ],
      "metadata": {
        "colab": {
          "base_uri": "https://localhost:8080/"
        },
        "id": "UvS6d4Ya3_At",
        "outputId": "a9538f8e-71bc-4999-8fbf-bc3d5e1f34db"
      },
      "execution_count": null,
      "outputs": [
        {
          "output_type": "execute_result",
          "data": {
            "text/plain": [
              "5"
            ]
          },
          "metadata": {},
          "execution_count": 61
        }
      ]
    },
    {
      "cell_type": "markdown",
      "metadata": {
        "id": "W8VFCKoZi4tA"
      },
      "source": [
        "##Tuplas = una estructura de datos"
      ]
    },
    {
      "cell_type": "markdown",
      "metadata": {
        "id": "H7-tLGYG4V4f"
      },
      "source": [
        "Las tuplas no se pueden modificar una vez han sido creadas"
      ]
    },
    {
      "cell_type": "code",
      "metadata": {
        "id": "rsKdwhPUjZ9e"
      },
      "source": [
        "variable_x = ( 123456 , 'una frase...' )"
      ],
      "execution_count": null,
      "outputs": []
    },
    {
      "cell_type": "code",
      "metadata": {
        "id": "ReHD6ztk35vp"
      },
      "source": [
        "variable_x[0] # esto es indexing"
      ],
      "execution_count": null,
      "outputs": []
    },
    {
      "cell_type": "code",
      "metadata": {
        "id": "fczb9PI73_Fb"
      },
      "source": [
        "variable_x[1] # esto es indexing"
      ],
      "execution_count": null,
      "outputs": []
    },
    {
      "cell_type": "code",
      "metadata": {
        "id": "e7hsdW3X4JOd"
      },
      "source": [
        "len( variable_x ) #devuelve la cantidad de datos al interior de la variable"
      ],
      "execution_count": null,
      "outputs": []
    },
    {
      "cell_type": "markdown",
      "metadata": {
        "id": "OWRDtPvei4Xx"
      },
      "source": [
        "##Listas"
      ]
    },
    {
      "cell_type": "markdown",
      "metadata": {
        "id": "G5wLuav24x3B"
      },
      "source": [
        "Si se pueden modificar"
      ]
    },
    {
      "cell_type": "code",
      "metadata": {
        "id": "v7Jeb3X_jaPA"
      },
      "source": [
        "variable_y = [ 123456, 'texto', True, ''  ]"
      ],
      "execution_count": null,
      "outputs": []
    },
    {
      "cell_type": "code",
      "metadata": {
        "id": "K5SK2loj4nMk"
      },
      "source": [
        "variable_y[ 2 ] #indexing"
      ],
      "execution_count": null,
      "outputs": []
    },
    {
      "cell_type": "code",
      "metadata": {
        "id": "WTelLRy74xIt"
      },
      "source": [
        "variable_y[ 2 ] = 'Notas'"
      ],
      "execution_count": null,
      "outputs": []
    },
    {
      "cell_type": "code",
      "metadata": {
        "id": "UbwsLOBz46kY"
      },
      "source": [
        "print( variable_y )"
      ],
      "execution_count": null,
      "outputs": []
    },
    {
      "cell_type": "code",
      "metadata": {
        "id": "ooT0l2v75DAd"
      },
      "source": [
        "indices_ejemplo = [0, 1, 2, 3, 4 ]\n",
        "len( indices_ejemplo )"
      ],
      "execution_count": null,
      "outputs": []
    },
    {
      "cell_type": "code",
      "metadata": {
        "id": "ElP-XU8o5PY8"
      },
      "source": [
        "indices_ejemplo[5] # recibiremos un error si pedimos un indice que no existe"
      ],
      "execution_count": null,
      "outputs": []
    },
    {
      "cell_type": "code",
      "metadata": {
        "id": "15BOXv315V5V"
      },
      "source": [
        "indices_ejemplo2 = [-5, -4, -3, -2, -1 ]\n",
        "\n",
        "\n",
        "indices_ejemplo2[ -1 ]"
      ],
      "execution_count": null,
      "outputs": []
    },
    {
      "cell_type": "code",
      "metadata": {
        "id": "oVX2kKdZ5h44"
      },
      "source": [
        "indices_ejemplo2[-5] == indices_ejemplo2[ 0 ]"
      ],
      "execution_count": null,
      "outputs": []
    },
    {
      "cell_type": "markdown",
      "metadata": {
        "id": "YI5TN-TdixkC"
      },
      "source": [
        "##Condicionales"
      ]
    },
    {
      "cell_type": "markdown",
      "metadata": {
        "id": "eyKSTiBNl906"
      },
      "source": [
        "if {condicion}:\n",
        "> {codigo}  \n",
        "\n",
        "elif {condicion}: # opcional \n",
        "> {codigo}        \n",
        "\n",
        "else:  # opcional\n",
        "> {codigo}\n"
      ]
    },
    {
      "cell_type": "code",
      "metadata": {
        "id": "l1Z23Bwsjas4"
      },
      "source": [
        "if 1 + 1 > 0:\n",
        "  print('Se cumple')"
      ],
      "execution_count": null,
      "outputs": []
    },
    {
      "cell_type": "code",
      "metadata": {
        "id": "-mSeJlYZ522h"
      },
      "source": [
        "if 1 + 1 > 10: # no sucedera nada si no se cumple\n",
        "  print('Se cumple')"
      ],
      "execution_count": null,
      "outputs": []
    },
    {
      "cell_type": "code",
      "metadata": {
        "id": "6OsRH98W5-TR"
      },
      "source": [
        "if 1 + 1 > 10: \n",
        "  print('Se cumple')\n",
        "\n",
        "else:\n",
        "  print('No se cumplio')"
      ],
      "execution_count": null,
      "outputs": []
    },
    {
      "cell_type": "code",
      "metadata": {
        "id": "jfwsCJje6NVI"
      },
      "source": [
        "x = 'Adam'\n",
        "if x == 'Bob':\n",
        "  print('Hola Bob')\n",
        "elif x == 'Adam':\n",
        "  print('Hola Adam')\n",
        "else:\n",
        "  print('Hola a todos')"
      ],
      "execution_count": null,
      "outputs": []
    },
    {
      "cell_type": "code",
      "metadata": {
        "id": "rw6Z7iDG7A7U"
      },
      "source": [
        "x = 1\n",
        " y = 2   #se produce error por el espacio, es una indentacion errada\n",
        "z = 3"
      ],
      "execution_count": null,
      "outputs": []
    },
    {
      "cell_type": "code",
      "metadata": {
        "id": "MXbwNtP07QuE"
      },
      "source": [
        "x = 1\n",
        "y = 2\n",
        "\n",
        "if x == 1:\n",
        "  if y == 2:\n",
        "    print('se cumplen ambas')\n",
        "  \n",
        "  else:\n",
        "    print('no se cumple y, pero si se cumple x')\n",
        "\n",
        "else:\n",
        "  print('no se cumple x')"
      ],
      "execution_count": null,
      "outputs": []
    },
    {
      "cell_type": "code",
      "metadata": {
        "id": "RtSkl5pR8q81"
      },
      "source": [
        "# else if condicion...\n",
        "\n",
        "x = 1\n",
        "y = 2\n",
        "\n",
        "if x == 1:\n",
        "  if y == 2:\n",
        "    print('se cumplen ambas')\n",
        "\n",
        "elif 1 == 2:\n",
        "  print('ok')"
      ],
      "execution_count": null,
      "outputs": []
    },
    {
      "cell_type": "code",
      "metadata": {
        "id": "ywFs6PNu9BAC"
      },
      "source": [
        "x = input('Ingresa un numero entre 1 y 9 ')   #el input siempre devuelve texto!!\n",
        "print( x ) #esto es texto\n",
        "print( int(x) ) # ahora si es numero natural\n",
        "\n",
        "if int(x) == 1:\n",
        "  print('UNO')\n",
        "\n",
        "elif int(x) == 2:\n",
        "  print('DOS')\n",
        "\n",
        "elif int(x) == 3:\n",
        "  print('TRES')\n",
        "\n",
        "elif int(x) == 4:\n",
        "  print('CUATRO')\n",
        "\n",
        "elif int(x) == 5:\n",
        "  print('CINCO')\n",
        "\n",
        "elif int(x) == 6:\n",
        "  print('SEIS')\n",
        "\n",
        "else:\n",
        "  print('NO SE QUE NUMERO ES')"
      ],
      "execution_count": null,
      "outputs": []
    },
    {
      "cell_type": "markdown",
      "metadata": {
        "id": "7BhcOtpLjN6c"
      },
      "source": [
        "##Ciclos"
      ]
    },
    {
      "cell_type": "markdown",
      "metadata": {
        "id": "oCHDpdn8jbjy"
      },
      "source": [
        "###For (cuando yo se cuantas veces repetir)"
      ]
    },
    {
      "cell_type": "markdown",
      "metadata": {
        "id": "eqYFdGLqm9IE"
      },
      "source": [
        "iteracion = grupo de datos sobre los que se repetira un codigo\n",
        "\n",
        "- range(n) \n",
        ">genera una iteracion {0, 1, 2, ... n - 2, n - 1 }\n",
        "- range(m, n) \n",
        ">genera una iteracion {m, m + 1, m + 2, ... n - 2, n - 1 }    m < n\n",
        "- range(m, n, step)\n",
        ">genera una iteracion {m, m + step, m + 2 * step, ... n - 2 * step, n - step }  suponiendo que n es divisible por step"
      ]
    },
    {
      "cell_type": "markdown",
      "metadata": {
        "id": "xJR7eSmTmvJW"
      },
      "source": [
        "for {variable} in {iteracion}:\n",
        "> {codigo}  \n"
      ]
    },
    {
      "cell_type": "code",
      "metadata": {
        "id": "rOVApfDSjbD4"
      },
      "source": [
        "for i in range(5): #  {0, 1, 2, 3, 4 }\n",
        "  print(i)\n"
      ],
      "execution_count": null,
      "outputs": []
    },
    {
      "cell_type": "code",
      "metadata": {
        "id": "4m4-Dah6_JXv"
      },
      "source": [
        "for i in range(5): #  {0, 1, 2, 3, 4 }\n",
        "  print(i)\n",
        "  if i == 2:\n",
        "    print('Este es un 2')"
      ],
      "execution_count": null,
      "outputs": []
    },
    {
      "cell_type": "code",
      "metadata": {
        "id": "RWoh9Np6_X9h"
      },
      "source": [
        "for i in 'palabra muy larga':\n",
        "  if i == 'a':\n",
        "    print(i)\n",
        "  "
      ],
      "execution_count": null,
      "outputs": []
    },
    {
      "cell_type": "markdown",
      "metadata": {
        "id": "PBTT23KTjdA0"
      },
      "source": [
        "###While (cuando no sabemos cuantas veces repetir)"
      ]
    },
    {
      "cell_type": "markdown",
      "metadata": {
        "id": "EUE4Ah4Sm5Xn"
      },
      "source": [
        "while {condicion}:\n",
        "> {codigo}  \n"
      ]
    },
    {
      "cell_type": "code",
      "metadata": {
        "id": "_UkfHv8MjeeU"
      },
      "source": [
        "clave = '1234'\n",
        "\n",
        "x = ''\n",
        "\n",
        "while x != clave:\n",
        "  x = input('Ingrese su clave: ')\n",
        "  if x != clave:\n",
        "    print('NO NO NO, no ingresaste la clave correcta')\n"
      ],
      "execution_count": null,
      "outputs": []
    },
    {
      "cell_type": "code",
      "metadata": {
        "id": "Yftfe2uTAkEa"
      },
      "source": [
        "clave = '1234'\n",
        "\n",
        "x = ''\n",
        "\n",
        "while x != clave:\n",
        "  x = input('Ingrese su clave: ')\n",
        "  if x != clave:\n",
        "    print('NO NO NO, no ingresaste la clave correcta')"
      ],
      "execution_count": null,
      "outputs": []
    },
    {
      "cell_type": "markdown",
      "metadata": {
        "id": "UOEo0DBXjN2W"
      },
      "source": [
        "##Funciones"
      ]
    },
    {
      "cell_type": "code",
      "metadata": {
        "id": "c0W2hmmVBEay"
      },
      "source": [
        "input()\n",
        "print()\n",
        "len()"
      ],
      "execution_count": null,
      "outputs": []
    },
    {
      "cell_type": "markdown",
      "metadata": {
        "id": "rmhSU4CljlkM"
      },
      "source": [
        "###Importar modulos/librerias"
      ]
    },
    {
      "cell_type": "code",
      "metadata": {
        "id": "DJU-f-C_ju7x"
      },
      "source": [
        "import math #incorpora la libreria math\n",
        "\n",
        "print( math.sqrt( 255 )   )"
      ],
      "execution_count": null,
      "outputs": []
    },
    {
      "cell_type": "code",
      "metadata": {
        "id": "qRDKk7JVBj2g"
      },
      "source": [
        "math.pi"
      ],
      "execution_count": null,
      "outputs": []
    },
    {
      "cell_type": "markdown",
      "metadata": {
        "id": "hvSbUtZYjkq0"
      },
      "source": [
        "###Usar Funciones"
      ]
    },
    {
      "cell_type": "code",
      "metadata": {
        "id": "Fii7fXgBBv6E"
      },
      "source": [
        "import random"
      ],
      "execution_count": null,
      "outputs": []
    },
    {
      "cell_type": "code",
      "metadata": {
        "id": "tRgXvHoOB0Ga"
      },
      "source": [
        "print( random.randint( 1, 100  )  ) # randint(a,b) genera un numero aleatorio entre a y b, incluidos"
      ],
      "execution_count": null,
      "outputs": []
    },
    {
      "cell_type": "code",
      "metadata": {
        "id": "Zy8QzYKrCD-Z"
      },
      "source": [
        "print( random.random() ) # random genera un numero aleatorio entre 0 y 1"
      ],
      "execution_count": null,
      "outputs": []
    },
    {
      "cell_type": "markdown",
      "metadata": {
        "id": "ElRHr_C-jxAY"
      },
      "source": [
        "#Ejercicios"
      ]
    },
    {
      "cell_type": "markdown",
      "metadata": {
        "id": "ic7x9ozRj782"
      },
      "source": [
        "1. Pide un numero y retorna el cuadrado de este"
      ]
    },
    {
      "cell_type": "code",
      "source": [],
      "metadata": {
        "id": "woF6QQO2-IVd"
      },
      "execution_count": null,
      "outputs": []
    },
    {
      "cell_type": "markdown",
      "metadata": {
        "id": "cMPaCP1Lj76A"
      },
      "source": [
        "2. Pide los datos necesarios para calcular la base, volumen y superficie de un ciclindro"
      ]
    },
    {
      "cell_type": "code",
      "source": [],
      "metadata": {
        "id": "3tIyqLmh-ICY"
      },
      "execution_count": null,
      "outputs": []
    },
    {
      "cell_type": "markdown",
      "metadata": {
        "id": "C1CmAWnHj73e"
      },
      "source": [
        "3. Pida el nombre y apellido al usuario e imprimalo concatenado (junto)"
      ]
    },
    {
      "cell_type": "code",
      "source": [],
      "metadata": {
        "id": "WiXsznLe-H0e"
      },
      "execution_count": null,
      "outputs": []
    },
    {
      "cell_type": "markdown",
      "metadata": {
        "id": "kFS_rnmGj708"
      },
      "source": [
        "4. Pida al usuario 3 números, imprime el promedio con y sin decimales."
      ]
    },
    {
      "cell_type": "code",
      "source": [],
      "metadata": {
        "id": "x5x9IxMV-Hnl"
      },
      "execution_count": null,
      "outputs": []
    },
    {
      "cell_type": "markdown",
      "metadata": {
        "id": "u0jLZo9Aj7yQ"
      },
      "source": [
        "5. Defina una funcion que le pida al usuario dos números y retorne si el primer numero es divisible por el segundo"
      ]
    },
    {
      "cell_type": "code",
      "source": [],
      "metadata": {
        "id": "6SthJkVM-HZV"
      },
      "execution_count": null,
      "outputs": []
    },
    {
      "cell_type": "markdown",
      "metadata": {
        "id": "z8ji_-N6j7vt"
      },
      "source": [
        "6. Defina una funcion que recibe una letra y verifica si es una consonante"
      ]
    },
    {
      "cell_type": "code",
      "source": [],
      "metadata": {
        "id": "tdQm3dmb-HN7"
      },
      "execution_count": null,
      "outputs": []
    },
    {
      "cell_type": "markdown",
      "metadata": {
        "id": "YIuzqBMoj7tO"
      },
      "source": [
        "7. Requerir al usuario que ingrese un día de la semana e imprimir un mensaje si es lunes, otro mensaje diferente si es viernes, otro mensaje diferente si es sábado o domingo."
      ]
    },
    {
      "cell_type": "code",
      "source": [],
      "metadata": {
        "id": "W_PPoNZS-Gt_"
      },
      "execution_count": null,
      "outputs": []
    },
    {
      "cell_type": "markdown",
      "metadata": {
        "id": "bPmgah5Lj7qe"
      },
      "source": [
        "8. Pida 3 números al usuario e imprímalos ordenados de mayor a menor."
      ]
    },
    {
      "cell_type": "code",
      "source": [],
      "metadata": {
        "id": "naG8Kpp3-GdF"
      },
      "execution_count": null,
      "outputs": []
    },
    {
      "cell_type": "markdown",
      "metadata": {
        "id": "1a9C7PkEj7nq"
      },
      "source": [
        "9. Dado un numero entregado por el usuario, imprima los divisores de este que sean menor que 20"
      ]
    },
    {
      "cell_type": "code",
      "source": [],
      "metadata": {
        "id": "gZ3TPgFP-GHy"
      },
      "execution_count": null,
      "outputs": []
    },
    {
      "cell_type": "markdown",
      "metadata": {
        "id": "vgIXVD52j7k-"
      },
      "source": [
        "10. Diseñe un programa que sume tantos números como el usuario entregue, mientras la suma sea menor a 21"
      ]
    },
    {
      "cell_type": "code",
      "source": [],
      "metadata": {
        "id": "two9Byvl-FyX"
      },
      "execution_count": null,
      "outputs": []
    },
    {
      "cell_type": "markdown",
      "metadata": {
        "id": "XW0FKgkdj7h0"
      },
      "source": [
        "11. Pida al usuario N numeros, y retornelos en una lista"
      ]
    },
    {
      "cell_type": "code",
      "source": [],
      "metadata": {
        "id": "qJEDsZL6-Fnm"
      },
      "execution_count": null,
      "outputs": []
    }
  ]
}